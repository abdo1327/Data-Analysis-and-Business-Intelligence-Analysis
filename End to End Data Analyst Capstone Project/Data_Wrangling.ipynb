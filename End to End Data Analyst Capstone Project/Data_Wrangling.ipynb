{
  "cells": [
    {
      "metadata": {
        "id": "8E5UnkpdWwXY"
      },
      "cell_type": "markdown",
      "source": [
        "# **Data Wrangling**\n"
      ]
    },
    {
      "metadata": {
        "id": "Y4TukQNsWwXb"
      },
      "cell_type": "markdown",
      "source": [
        "## **Overview**\n",
        "In this part of the project the foucs on :\n",
        "\n",
        "-   Identify duplicate values in the dataset.\n",
        "\n",
        "-   Remove duplicate values from the dataset.\n",
        "\n",
        "-   Identify missing values in the dataset.\n",
        "\n",
        "-   Impute the missing values in the dataset.\n",
        "\n",
        "-   Normalize data in the dataset.\n"
      ]
    },
    {
      "metadata": {
        "id": "0ErYrfE5WwXb"
      },
      "cell_type": "markdown",
      "source": [
        "<hr>\n"
      ]
    },
    {
      "metadata": {
        "id": "Ox1vbnm9WwXc"
      },
      "cell_type": "markdown",
      "source": [
        "Import pandas module.\n"
      ]
    },
    {
      "metadata": {
        "tags": [],
        "id": "D0wqlsgiWwXc"
      },
      "cell_type": "code",
      "source": [
        "import pandas as pd"
      ],
      "execution_count": null,
      "outputs": []
    },
    {
      "metadata": {
        "id": "MwSdPcmhWwXd"
      },
      "cell_type": "markdown",
      "source": [
        "Load the dataset into a dataframe.\n"
      ]
    },
    {
      "metadata": {
        "tags": [],
        "id": "D_sqIGevWwXe"
      },
      "cell_type": "code",
      "source": [
        "df = pd.read_csv(\"https://cf-courses-data.s3.us.cloud-object-storage.appdomain.cloud/IBM-DA0321EN-SkillsNetwork/LargeData/m1_survey_data.csv\")"
      ],
      "execution_count": null,
      "outputs": []
    },
    {
      "metadata": {
        "id": "kbrR_jzRWwXe"
      },
      "cell_type": "markdown",
      "source": [
        "## Finding and removing duplicates\n"
      ]
    },
    {
      "metadata": {
        "tags": [],
        "id": "CinjWwk0WwXg",
        "outputId": "6c062758-eafc-4eb0-de8d-66f351aacd1a"
      },
      "cell_type": "code",
      "source": [
        "duplicate_rows = df[df.duplicated()]\n",
        "print(duplicate_rows.shape[0])"
      ],
      "execution_count": null,
      "outputs": [
        {
          "name": "stdout",
          "output_type": "stream",
          "text": "154\n"
        }
      ]
    },
    {
      "metadata": {
        "tags": [],
        "id": "n-8T_deAWwXh"
      },
      "cell_type": "code",
      "source": [
        "df.drop_duplicates(inplace=True)"
      ],
      "execution_count": null,
      "outputs": []
    },
    {
      "metadata": {
        "id": "fz5CYlGfWwXh"
      },
      "cell_type": "markdown",
      "source": [
        "Verify if duplicates were actually dropped.\n"
      ]
    },
    {
      "metadata": {
        "tags": [],
        "id": "t4ggtuI_WwXh",
        "outputId": "a5553d95-5a91-4533-9911-b14a6b5ad06b"
      },
      "cell_type": "code",
      "source": [
        "verify=df[df.duplicated()]\n",
        "print(verify)"
      ],
      "execution_count": null,
      "outputs": [
        {
          "name": "stdout",
          "output_type": "stream",
          "text": "Empty DataFrame\nColumns: [Respondent, MainBranch, Hobbyist, OpenSourcer, OpenSource, Employment, Country, Student, EdLevel, UndergradMajor, EduOther, OrgSize, DevType, YearsCode, Age1stCode, YearsCodePro, CareerSat, JobSat, MgrIdiot, MgrMoney, MgrWant, JobSeek, LastHireDate, LastInt, FizzBuzz, JobFactors, ResumeUpdate, CurrencySymbol, CurrencyDesc, CompTotal, CompFreq, ConvertedComp, WorkWeekHrs, WorkPlan, WorkChallenge, WorkRemote, WorkLoc, ImpSyn, CodeRev, CodeRevHrs, UnitTests, PurchaseHow, PurchaseWhat, LanguageWorkedWith, LanguageDesireNextYear, DatabaseWorkedWith, DatabaseDesireNextYear, PlatformWorkedWith, PlatformDesireNextYear, WebFrameWorkedWith, WebFrameDesireNextYear, MiscTechWorkedWith, MiscTechDesireNextYear, DevEnviron, OpSys, Containers, BlockchainOrg, BlockchainIs, BetterLife, ITperson, OffOn, SocialMedia, Extraversion, ScreenName, SOVisit1st, SOVisitFreq, SOVisitTo, SOFindAnswer, SOTimeSaved, SOHowMuchTime, SOAccount, SOPartFreq, SOJobs, EntTeams, SOComm, WelcomeChange, SONewContent, Age, Gender, Trans, Sexuality, Ethnicity, Dependents, SurveyLength, SurveyEase]\nIndex: []\n\n[0 rows x 85 columns]\n"
        }
      ]
    },
    {
      "metadata": {
        "id": "R64mdC0jWwXi"
      },
      "cell_type": "markdown",
      "source": [
        "## Finding Missing values\n"
      ]
    },
    {
      "metadata": {
        "tags": [],
        "id": "e--gkMqnWwXi",
        "outputId": "d608d036-f91c-4372-9442-de14f15b6c54"
      },
      "cell_type": "code",
      "source": [
        "missing_values = df.isnull().sum()\n",
        "print(missing_values['Country'])"
      ],
      "execution_count": null,
      "outputs": [
        {
          "name": "stdout",
          "output_type": "stream",
          "text": "0\n"
        }
      ]
    },
    {
      "metadata": {
        "id": "t4OsMc41WwXi"
      },
      "cell_type": "markdown",
      "source": [
        "Find out how many rows are missing in the column 'WorkLoc'\n"
      ]
    },
    {
      "metadata": {
        "tags": [],
        "id": "UDdBAAsGWwXi",
        "outputId": "2f988def-22b7-4545-f1d5-5fc16b0725af"
      },
      "cell_type": "code",
      "source": [
        "missing_values_workloc = df['WorkLoc'].isnull().sum()\n",
        "print(missing_values_workloc)\n",
        "print(df['Respondent'].shape[0])"
      ],
      "execution_count": null,
      "outputs": [
        {
          "name": "stdout",
          "output_type": "stream",
          "text": "32\n11398\n"
        }
      ]
    },
    {
      "metadata": {
        "id": "YtWkWVLHWwXj"
      },
      "cell_type": "markdown",
      "source": [
        "## Imputing missing values\n"
      ]
    },
    {
      "metadata": {
        "id": "paOUOusKWwXj"
      },
      "cell_type": "markdown",
      "source": [
        "Find the  value counts for the column WorkLoc.\n"
      ]
    },
    {
      "metadata": {
        "tags": [],
        "id": "hiLLIdIaWwXj",
        "outputId": "1d78f04b-913b-4d08-d3ce-ce6ae3e358c5"
      },
      "cell_type": "code",
      "source": [
        "print(df['WorkLoc'].value_counts())\n",
        "print(df['UndergradMajor'].value_counts())"
      ],
      "execution_count": null,
      "outputs": [
        {
          "name": "stdout",
          "output_type": "stream",
          "text": "Office                                            6838\nHome                                              3589\nOther place, such as a coworking space or cafe     971\nName: WorkLoc, dtype: int64\nComputer science, computer engineering, or software engineering          6953\nInformation systems, information technology, or system administration     794\nAnother engineering discipline (ex. civil, electrical, mechanical)        759\nWeb development or web design                                             410\nA natural science (ex. biology, chemistry, physics)                       403\nMathematics or statistics                                                 372\nA business discipline (ex. accounting, finance, marketing)                244\nA social science (ex. anthropology, psychology, political science)        210\nA humanities discipline (ex. literature, history, philosophy)             207\nFine arts or performing arts (ex. graphic design, music, studio art)      161\nI never declared a major                                                  124\nA health science (ex. nursing, pharmacy, radiology)                        24\nName: UndergradMajor, dtype: int64\n"
        }
      ]
    },
    {
      "metadata": {
        "id": "QA1jctwzWwXj"
      },
      "cell_type": "markdown",
      "source": [
        "Impute (replace) all the empty rows in the column WorkLoc with the value that you have identified as majority.\n"
      ]
    },
    {
      "metadata": {
        "tags": [],
        "id": "GVtsLiRGWwXk"
      },
      "cell_type": "code",
      "source": [
        "#Identify the value that is most frequent (Office) in the WorkLoc column to ues it for fill the missing values\n",
        "df['WorkLoc'] = df['WorkLoc'].fillna(\"Office\")"
      ],
      "execution_count": null,
      "outputs": []
    },
    {
      "metadata": {
        "id": "vOP4TpopWwXk"
      },
      "cell_type": "markdown",
      "source": [
        "Verify if imputing was successful.\n"
      ]
    },
    {
      "metadata": {
        "tags": [],
        "id": "NBpKCnZuWwXl",
        "outputId": "44bf9eaa-61b4-46c4-dcff-2eaf7b63f7e7"
      },
      "cell_type": "code",
      "source": [
        "print(df['WorkLoc'].isnull().sum())"
      ],
      "execution_count": null,
      "outputs": [
        {
          "name": "stdout",
          "output_type": "stream",
          "text": "0\n"
        }
      ]
    },
    {
      "metadata": {
        "id": "_IR2iAduWwXl"
      },
      "cell_type": "markdown",
      "source": [
        "## Normalizing data\n"
      ]
    },
    {
      "metadata": {
        "id": "_pTmb0L9WwXl"
      },
      "cell_type": "markdown",
      "source": [
        "In the dataset, there are two columns related to compensation: \"CompFreq\" indicates the payment frequency (Yearly, Monthly, Weekly), while \"CompTotal\" specifies the amount paid per Year, Month, or Week based on \"CompFreq\". This complicates salary comparisons.\n",
        "\n",
        "To simplify comparisons, a new column, 'NormalizedAnnualCompensation', will be created, containing the annual compensation regardless of the payment frequency. This facilitates salary comparisons."
      ]
    },
    {
      "metadata": {
        "id": "vP1YAtAiWwXt"
      },
      "cell_type": "markdown",
      "source": [
        "<hr>\n"
      ]
    },
    {
      "metadata": {
        "id": "6T0krITzWwXu"
      },
      "cell_type": "markdown",
      "source": [
        "List out the various categories in the column 'CompFreq'\n"
      ]
    },
    {
      "metadata": {
        "tags": [],
        "id": "eMJ8DLi8WwXu",
        "outputId": "1c170433-1d3d-4f98-8381-45ef462c1f1d"
      },
      "cell_type": "code",
      "source": [
        "print(df['CompFreq'].value_counts())"
      ],
      "execution_count": null,
      "outputs": [
        {
          "name": "stdout",
          "output_type": "stream",
          "text": "Yearly     6073\nMonthly    4788\nWeekly      331\nName: CompFreq, dtype: int64\n"
        }
      ]
    },
    {
      "metadata": {
        "id": "i_OZhWj4WwXu"
      },
      "cell_type": "markdown",
      "source": [
        "Create a new column named 'NormalizedAnnualCompensation'. Use the hint given below if needed.\n"
      ]
    },
    {
      "metadata": {
        "tags": [],
        "id": "9rVEwMuWWwXv"
      },
      "cell_type": "code",
      "source": [
        "compfreq_map = {'Yearly': 1, 'Monthly': 12, 'Weekly': 52}\n",
        "\n",
        "df['NormalizedAnnualCompensation'] = df['CompTotal'] * df['CompFreq'].map(compfreq_map)"
      ],
      "execution_count": null,
      "outputs": []
    }
  ],
  "metadata": {
    "kernelspec": {
      "name": "python3",
      "display_name": "Python 3.10",
      "language": "python"
    },
    "language_info": {
      "name": "python",
      "version": "3.10.13",
      "mimetype": "text/x-python",
      "codemirror_mode": {
        "name": "ipython",
        "version": 3
      },
      "pygments_lexer": "ipython3",
      "nbconvert_exporter": "python",
      "file_extension": ".py"
    },
    "colab": {
      "provenance": []
    }
  },
  "nbformat": 4,
  "nbformat_minor": 0
}