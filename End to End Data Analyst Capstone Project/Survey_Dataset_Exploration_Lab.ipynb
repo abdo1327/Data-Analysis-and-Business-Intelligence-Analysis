{
  "cells": [
    {
      "metadata": {
        "id": "GShGTxvmWuIn"
      },
      "cell_type": "markdown",
      "source": [
        "# **Survey Dataset Exploration Lab**\n"
      ]
    },
    {
      "metadata": {
        "id": "7WQVm2ZAWuIp"
      },
      "cell_type": "markdown",
      "source": [
        "## **Overview**\n",
        "In this part of the project the foucs on :\n",
        "-   Load the dataset from given URL which will be uesd for the next part of the poject\n",
        "-   Explore the dataset.\n",
        "-   Get familier with the data types.\n"
      ]
    },
    {
      "metadata": {
        "id": "-B8Te_Y0WuIp"
      },
      "cell_type": "markdown",
      "source": [
        "## Load the dataset\n"
      ]
    },
    {
      "metadata": {
        "tags": [],
        "id": "jgBBsC-cWuIq"
      },
      "cell_type": "code",
      "source": [
        "import pandas as pd"
      ],
      "execution_count": 1,
      "outputs": []
    },
    {
      "metadata": {
        "tags": [],
        "id": "UQBFTZvNWuIq"
      },
      "cell_type": "code",
      "source": [
        "dataset_url = \"https://cf-courses-data.s3.us.cloud-object-storage.appdomain.cloud/IBM-DA0321EN-SkillsNetwork/LargeData/m1_survey_data.csv\""
      ],
      "execution_count": 2,
      "outputs": []
    },
    {
      "metadata": {
        "id": "misBeDB5WuIr"
      },
      "cell_type": "markdown",
      "source": [
        "Load the data available at dataset_url into a dataframe.\n"
      ]
    },
    {
      "metadata": {
        "tags": [],
        "id": "M8tjDSdQWuIr"
      },
      "cell_type": "code",
      "source": [
        "df = pd.read_csv(dataset_url)"
      ],
      "execution_count": 3,
      "outputs": []
    },
    {
      "metadata": {
        "id": "2at2k-eSWuIs"
      },
      "cell_type": "markdown",
      "source": [
        "## Explore the data set\n"
      ]
    },
    {
      "metadata": {
        "tags": [],
        "colab": {
          "base_uri": "https://localhost:8080/"
        },
        "id": "JFWfdlYUWuIs",
        "outputId": "ed010d7b-a42b-4b17-f053-3a7d041eb738"
      },
      "cell_type": "code",
      "source": [
        "\n",
        "print(df.head())"
      ],
      "execution_count": 4,
      "outputs": [
        {
          "output_type": "stream",
          "name": "stdout",
          "text": [
            "   Respondent                      MainBranch Hobbyist  \\\n",
            "0           4  I am a developer by profession       No   \n",
            "1           9  I am a developer by profession      Yes   \n",
            "2          13  I am a developer by profession      Yes   \n",
            "3          16  I am a developer by profession      Yes   \n",
            "4          17  I am a developer by profession      Yes   \n",
            "\n",
            "                                         OpenSourcer  \\\n",
            "0                                              Never   \n",
            "1                         Once a month or more often   \n",
            "2  Less than once a month but more than once per ...   \n",
            "3                                              Never   \n",
            "4  Less than once a month but more than once per ...   \n",
            "\n",
            "                                          OpenSource          Employment  \\\n",
            "0  The quality of OSS and closed source software ...  Employed full-time   \n",
            "1  The quality of OSS and closed source software ...  Employed full-time   \n",
            "2  OSS is, on average, of HIGHER quality than pro...  Employed full-time   \n",
            "3  The quality of OSS and closed source software ...  Employed full-time   \n",
            "4  The quality of OSS and closed source software ...  Employed full-time   \n",
            "\n",
            "          Country Student                                            EdLevel  \\\n",
            "0   United States      No           Bachelor’s degree (BA, BS, B.Eng., etc.)   \n",
            "1     New Zealand      No  Some college/university study without earning ...   \n",
            "2   United States      No        Master’s degree (MA, MS, M.Eng., MBA, etc.)   \n",
            "3  United Kingdom      No        Master’s degree (MA, MS, M.Eng., MBA, etc.)   \n",
            "4       Australia      No           Bachelor’s degree (BA, BS, B.Eng., etc.)   \n",
            "\n",
            "                                      UndergradMajor  ...  \\\n",
            "0  Computer science, computer engineering, or sof...  ...   \n",
            "1  Computer science, computer engineering, or sof...  ...   \n",
            "2  Computer science, computer engineering, or sof...  ...   \n",
            "3                                                NaN  ...   \n",
            "4  Computer science, computer engineering, or sof...  ...   \n",
            "\n",
            "                              WelcomeChange  \\\n",
            "0   Just as welcome now as I felt last year   \n",
            "1   Just as welcome now as I felt last year   \n",
            "2  Somewhat more welcome now than last year   \n",
            "3   Just as welcome now as I felt last year   \n",
            "4   Just as welcome now as I felt last year   \n",
            "\n",
            "                                        SONewContent   Age Gender Trans  \\\n",
            "0  Tech articles written by other developers;Indu...  22.0    Man    No   \n",
            "1                                                NaN  23.0    Man    No   \n",
            "2  Tech articles written by other developers;Cour...  28.0    Man    No   \n",
            "3  Tech articles written by other developers;Indu...  26.0    Man    No   \n",
            "4  Tech articles written by other developers;Indu...  29.0    Man    No   \n",
            "\n",
            "                 Sexuality                              Ethnicity Dependents  \\\n",
            "0  Straight / Heterosexual           White or of European descent         No   \n",
            "1                 Bisexual           White or of European descent         No   \n",
            "2  Straight / Heterosexual           White or of European descent        Yes   \n",
            "3  Straight / Heterosexual           White or of European descent         No   \n",
            "4  Straight / Heterosexual  Hispanic or Latino/Latina;Multiracial         No   \n",
            "\n",
            "            SurveyLength                  SurveyEase  \n",
            "0  Appropriate in length                        Easy  \n",
            "1  Appropriate in length  Neither easy nor difficult  \n",
            "2  Appropriate in length                        Easy  \n",
            "3  Appropriate in length  Neither easy nor difficult  \n",
            "4  Appropriate in length                        Easy  \n",
            "\n",
            "[5 rows x 85 columns]\n"
          ]
        }
      ]
    },
    {
      "metadata": {
        "id": "wIFESwAMWuIt"
      },
      "cell_type": "markdown",
      "source": [
        "## Find out the number of rows and columns\n"
      ]
    },
    {
      "metadata": {
        "tags": [],
        "colab": {
          "base_uri": "https://localhost:8080/"
        },
        "id": "rvp4OJfVWuIu",
        "outputId": "c93a3f55-2de6-4081-8858-24563a220dac"
      },
      "cell_type": "code",
      "source": [
        "\n",
        "num_rows = df.shape[0]\n",
        "print(num_rows)"
      ],
      "execution_count": 5,
      "outputs": [
        {
          "output_type": "stream",
          "name": "stdout",
          "text": [
            "11552\n"
          ]
        }
      ]
    },
    {
      "metadata": {
        "tags": [],
        "colab": {
          "base_uri": "https://localhost:8080/"
        },
        "id": "Gt_FndDJWuIu",
        "outputId": "aa0ab86c-a025-4c59-cce0-7713fe49767b"
      },
      "cell_type": "code",
      "source": [
        "num_clo = df.shape[1]\n",
        "print(num_clo)"
      ],
      "execution_count": 6,
      "outputs": [
        {
          "output_type": "stream",
          "name": "stdout",
          "text": [
            "85\n"
          ]
        }
      ]
    },
    {
      "cell_type": "code",
      "source": [
        "print(df.dtypes)"
      ],
      "metadata": {
        "colab": {
          "base_uri": "https://localhost:8080/"
        },
        "id": "9w1A_bupfx1u",
        "outputId": "97c52744-3a4f-4b9f-d739-cd9d4c28d8bc"
      },
      "execution_count": 10,
      "outputs": [
        {
          "output_type": "stream",
          "name": "stdout",
          "text": [
            "Respondent       int64\n",
            "MainBranch      object\n",
            "Hobbyist        object\n",
            "OpenSourcer     object\n",
            "OpenSource      object\n",
            "                 ...  \n",
            "Sexuality       object\n",
            "Ethnicity       object\n",
            "Dependents      object\n",
            "SurveyLength    object\n",
            "SurveyEase      object\n",
            "Length: 85, dtype: object\n"
          ]
        }
      ]
    },
    {
      "metadata": {
        "id": "JZfG8vlzWuIu"
      },
      "cell_type": "markdown",
      "source": [
        "## Identify the data types of each column\n"
      ]
    },
    {
      "metadata": {
        "id": "VnqsIlO_WuIv"
      },
      "cell_type": "markdown",
      "source": [
        "Print the mean age of the survey participants.\n"
      ]
    },
    {
      "metadata": {
        "tags": [],
        "colab": {
          "base_uri": "https://localhost:8080/"
        },
        "id": "V02fLLnpWuIv",
        "outputId": "34ffbe41-c3f0-4c9b-94e1-83007ca205aa"
      },
      "cell_type": "code",
      "source": [
        "\n",
        "print(df.Age.mean())"
      ],
      "execution_count": 7,
      "outputs": [
        {
          "output_type": "stream",
          "name": "stdout",
          "text": [
            "30.77239449133718\n"
          ]
        }
      ]
    },
    {
      "metadata": {
        "id": "90DBS_9cWuIv"
      },
      "cell_type": "markdown",
      "source": [
        "How many unique countries are there in the Country column.\n"
      ]
    },
    {
      "metadata": {
        "tags": [],
        "colab": {
          "base_uri": "https://localhost:8080/"
        },
        "id": "umVZMcDaWuIv",
        "outputId": "b4ba5d7a-c939-42de-9dd3-20b02c9642d2"
      },
      "cell_type": "code",
      "source": [
        "# your code goes here\n",
        "print(df['Country'].nunique())"
      ],
      "execution_count": 8,
      "outputs": [
        {
          "output_type": "stream",
          "name": "stdout",
          "text": [
            "135\n"
          ]
        }
      ]
    }
  ],
  "metadata": {
    "kernelspec": {
      "name": "python3",
      "display_name": "Python 3.10",
      "language": "python"
    },
    "language_info": {
      "name": "python",
      "version": "3.10.13",
      "mimetype": "text/x-python",
      "codemirror_mode": {
        "name": "ipython",
        "version": 3
      },
      "pygments_lexer": "ipython3",
      "nbconvert_exporter": "python",
      "file_extension": ".py"
    },
    "colab": {
      "provenance": []
    }
  },
  "nbformat": 4,
  "nbformat_minor": 0
}