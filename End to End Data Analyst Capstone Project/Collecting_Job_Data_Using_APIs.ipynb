{
  "cells": [
    {
      "metadata": {
        "id": "i98RTA6fWksW"
      },
      "cell_type": "markdown",
      "source": [
        "# **Collecting Job Data Using APIs**\n"
      ]
    },
    {
      "metadata": {
        "id": "JGYzBzxgWksa"
      },
      "cell_type": "markdown",
      "source": [
        "## The Dataset\n",
        "\n",
        "In this part, I demonstrate the concept of using an API to perform the ETL process for the dataset, which will be used in the following parts of the project. The dataset used in this part comes from the following source: [Jobs on Naukri.com](https://www.kaggle.com/promptcloud/jobs-on-naukricom) under a **Public Domain license**.\n"
      ]
    },
    {
      "metadata": {
        "tags": [],
        "id": "YZSmyhSLWksb"
      },
      "cell_type": "code",
      "source": [
        "import requests # you need this module to make an API call\n",
        "import pandas as pd"
      ],
      "execution_count": null,
      "outputs": []
    },
    {
      "metadata": {
        "tags": [],
        "id": "d5WLTqtqWksc"
      },
      "cell_type": "code",
      "source": [
        "api_url = \"http://api.open-notify.org/astros.json\" # this url gives use the astronaut data"
      ],
      "execution_count": null,
      "outputs": []
    },
    {
      "metadata": {
        "tags": [],
        "id": "Hw6qML07Wksd"
      },
      "cell_type": "code",
      "source": [
        "response = requests.get(api_url) # Call the API using the get method and store the\n",
        "                                # output of the API call in a variable called response."
      ],
      "execution_count": null,
      "outputs": []
    },
    {
      "metadata": {
        "tags": [],
        "id": "Rv7Zupy_Wksd"
      },
      "cell_type": "code",
      "source": [
        "if response.ok:             # if all is well() no errors, no network timeouts)\n",
        "    data = response.json()  # store the result in json format in a variable called data\n",
        "                            # the variable data is of type dictionary."
      ],
      "execution_count": null,
      "outputs": []
    },
    {
      "metadata": {
        "id": "p1jpEmyWWksd"
      },
      "cell_type": "code",
      "source": [],
      "execution_count": null,
      "outputs": []
    },
    {
      "metadata": {
        "tags": [],
        "id": "Vk_U0uezWksd",
        "outputId": "179ba4d9-fc06-4815-94c8-ebceb14679d9"
      },
      "cell_type": "code",
      "source": [
        "print(data)   # print the data just to check the output or for debugging"
      ],
      "execution_count": null,
      "outputs": [
        {
          "output_type": "stream",
          "text": "{'message': 'success', 'people': [{'name': 'Jasmin Moghbeli', 'craft': 'ISS'}, {'name': 'Andreas Mogensen', 'craft': 'ISS'}, {'name': 'Satoshi Furukawa', 'craft': 'ISS'}, {'name': 'Konstantin Borisov', 'craft': 'ISS'}, {'name': 'Oleg Kononenko', 'craft': 'ISS'}, {'name': 'Nikolai Chub', 'craft': 'ISS'}, {'name': \"Loral O'Hara\", 'craft': 'ISS'}], 'number': 7}\n",
          "name": "stdout"
        }
      ]
    },
    {
      "metadata": {
        "id": "zdWCcjShWkse"
      },
      "cell_type": "markdown",
      "source": [
        "Print the number of astronauts currently on ISS.\n"
      ]
    },
    {
      "metadata": {
        "tags": [],
        "id": "UpczejRbWkse",
        "outputId": "ce907eed-e3c9-4f99-e35e-c18195528ffb"
      },
      "cell_type": "code",
      "source": [
        "print(data.get('number'))"
      ],
      "execution_count": null,
      "outputs": [
        {
          "output_type": "stream",
          "text": "7\n",
          "name": "stdout"
        }
      ]
    },
    {
      "metadata": {
        "id": "SKoX7FiPWkse"
      },
      "cell_type": "markdown",
      "source": [
        "Print the names of the astronauts currently on ISS.\n"
      ]
    },
    {
      "metadata": {
        "tags": [],
        "id": "ANPznI0dWkse",
        "outputId": "52a53ae3-bd99-47ec-cf8d-ce5b6978b4d5"
      },
      "cell_type": "code",
      "source": [
        "astronauts = data.get('people')\n",
        "print(\"There are {} astronauts on ISS\".format(len(astronauts)))\n",
        "print(\"And their names are :\")\n",
        "for astronaut in astronauts:\n",
        "    print(astronaut.get('name'))"
      ],
      "execution_count": null,
      "outputs": [
        {
          "output_type": "stream",
          "text": "There are 7 astronauts on ISS\nAnd their names are :\nJasmin Moghbeli\nAndreas Mogensen\nSatoshi Furukawa\nKonstantin Borisov\nOleg Kononenko\nNikolai Chub\nLoral O'Hara\n",
          "name": "stdout"
        }
      ]
    },
    {
      "metadata": {
        "tags": [],
        "id": "AJrBdyIqWksf"
      },
      "cell_type": "code",
      "source": [
        "#Import required libraries\n",
        "import pandas as pd\n",
        "import json"
      ],
      "execution_count": null,
      "outputs": []
    },
    {
      "cell_type": "markdown",
      "source": [
        "\n",
        "## Function counts the number of job\n",
        "\n",
        "\n"
      ],
      "metadata": {
        "id": "PHociAozdktH"
      }
    },
    {
      "cell_type": "markdown",
      "source": [
        "The following function counts the number of job listings related to a specific technology from a JSON dataset obtained from an API. It takes the technology as input, searches for job listings containing that technology as a key skill, and returns the count."
      ],
      "metadata": {
        "id": "K6-rw_mJdV5F"
      }
    },
    {
      "metadata": {
        "tags": [],
        "id": "O--HSyrMWksf"
      },
      "cell_type": "code",
      "source": [
        "api_url=\"https://cf-courses-data.s3.us.cloud-object-storage.appdomain.cloud/IBM-DA0321EN-SkillsNetwork/labs/module%201/Accessing%20Data%20Using%20APIs/jobs.json\"\n",
        "payload={'Location':'Los Angeles'}\n",
        "\n",
        "response = requests.get(api_url,params=payload)\n",
        "if response.ok:\n",
        "    data2 = response.json()\n",
        "\n",
        "def get_number_of_jobs_T(technology):\n",
        "\n",
        "\n",
        "    job_count = 0\n",
        "\n",
        "    key_skill=technology\n",
        "\n",
        "\n",
        "    for item in data2:\n",
        "        if 'Key Skills' in item and key_skill in item['Key Skills'] :\n",
        "            job_count += 1\n",
        "\n",
        "    number_of_jobs=job_count\n",
        "    return technology,number_of_jobs\n"
      ],
      "execution_count": null,
      "outputs": []
    },
    {
      "metadata": {
        "tags": [],
        "id": "vSEafrwQWksg",
        "outputId": "0be34097-34b8-425e-b997-dc5b14680619"
      },
      "cell_type": "code",
      "source": [
        "get_number_of_jobs_T(\"Python\")"
      ],
      "execution_count": null,
      "outputs": [
        {
          "output_type": "execute_result",
          "execution_count": 30,
          "data": {
            "text/plain": "('Python', 1173)"
          },
          "metadata": {}
        }
      ]
    },
    {
      "metadata": {
        "id": "YRuyOkWrWksg"
      },
      "cell_type": "markdown",
      "source": [
        "## Function to find number of jobs in US for a location\n"
      ]
    },
    {
      "metadata": {
        "tags": [],
        "id": "8TfEH0TRWksg"
      },
      "cell_type": "code",
      "source": [
        "def get_number_of_jobs_L(location):\n",
        "\n",
        "    job_count=0\n",
        "    locations = location\n",
        "    for item in data2:\n",
        "        if  item['Location'] == locations:\n",
        "            job_count += 1\n",
        "    number_of_jobs=job_count\n",
        "    return location,number_of_jobs"
      ],
      "execution_count": null,
      "outputs": []
    },
    {
      "metadata": {
        "id": "gbJ1MnlQWksg"
      },
      "cell_type": "markdown",
      "source": [
        "Call the function for Los Angeles and check if it is working.\n",
        "\n",
        "\n"
      ]
    },
    {
      "metadata": {
        "tags": [],
        "id": "9TgKetvWWksg",
        "outputId": "83c8d2a4-a69d-44c5-ff82-39f887730fdd"
      },
      "cell_type": "code",
      "source": [
        "#your code goes here\n",
        "get_number_of_jobs_L(\"Los Angeles\")"
      ],
      "execution_count": null,
      "outputs": [
        {
          "output_type": "execute_result",
          "execution_count": 32,
          "data": {
            "text/plain": "('Los Angeles', 640)"
          },
          "metadata": {}
        }
      ]
    },
    {
      "metadata": {
        "id": "jaU86sDGWksg"
      },
      "cell_type": "markdown",
      "source": [
        "## Store the results in an excel file\n"
      ]
    },
    {
      "metadata": {
        "id": "2xSF1Tw0Wksg"
      },
      "cell_type": "markdown",
      "source": [
        "Call the API for all the diffrent  technologies and locations\n",
        "write the results in an excel spreadsheet.\n"
      ]
    },
    {
      "metadata": {
        "tags": [],
        "id": "7C-PndDPWksl"
      },
      "cell_type": "code",
      "source": [
        "locations = ['Los Angeles', 'New York', 'San Francisco', 'Washington DC', 'Seattle', 'Austin', 'Detroit']\n"
      ],
      "execution_count": null,
      "outputs": []
    },
    {
      "metadata": {
        "id": "fQYId5sMWksl"
      },
      "cell_type": "markdown",
      "source": [
        "Import libraries required to create excel spreadsheet\n"
      ]
    },
    {
      "metadata": {
        "tags": [],
        "id": "araCLehbWksm",
        "outputId": "a55e2b22-f44b-4a25-c0b7-47f6519ad809"
      },
      "cell_type": "code",
      "source": [
        "!pip install openpyxl"
      ],
      "execution_count": null,
      "outputs": [
        {
          "output_type": "stream",
          "text": "Requirement already satisfied: openpyxl in /opt/conda/envs/Python-RT23.1/lib/python3.10/site-packages (3.0.10)\r\nRequirement already satisfied: et_xmlfile in /opt/conda/envs/Python-RT23.1/lib/python3.10/site-packages (from openpyxl) (1.1.0)\r\n",
          "name": "stdout"
        }
      ]
    },
    {
      "metadata": {
        "tags": [],
        "id": "_tZUHvpAWksm"
      },
      "cell_type": "code",
      "source": [
        "from openpyxl import Workbook"
      ],
      "execution_count": null,
      "outputs": []
    },
    {
      "metadata": {
        "id": "QhXQXKg5Wksm"
      },
      "cell_type": "markdown",
      "source": [
        "Create a workbook and select the active worksheet\n"
      ]
    },
    {
      "metadata": {
        "tags": [],
        "id": "B8cI5ATnWksm"
      },
      "cell_type": "code",
      "source": [
        "wb=Workbook()\n",
        "ws=wb.active"
      ],
      "execution_count": null,
      "outputs": []
    },
    {
      "metadata": {
        "tags": [],
        "id": "cMjQ-HB0Wksn"
      },
      "cell_type": "code",
      "source": [
        "ws.append(['jobs_postings','Location'])\n"
      ],
      "execution_count": null,
      "outputs": []
    },
    {
      "metadata": {
        "tags": [],
        "id": "Z5R4vwQhWksn"
      },
      "cell_type": "code",
      "source": [
        "for i in locations:\n",
        "    Location,jobs_postings=get_number_of_jobs_L(i)\n",
        "    ws.append([jobs_postings,Location])\n",
        ""
      ],
      "execution_count": null,
      "outputs": []
    },
    {
      "metadata": {
        "id": "7JmcRbJlWksn"
      },
      "cell_type": "markdown",
      "source": [
        "Save into an excel spreadsheet named 'job-postings.xlsx'.\n"
      ]
    },
    {
      "metadata": {
        "tags": [],
        "id": "C3HNuZzFWksn"
      },
      "cell_type": "code",
      "source": [
        "wb.save(\"job-postings.xlsx\")"
      ],
      "execution_count": null,
      "outputs": []
    },
    {
      "cell_type": "markdown",
      "source": [
        "Donig the same stpes for the diffrent technologies"
      ],
      "metadata": {
        "id": "JwJLuGL-eOz1"
      }
    },
    {
      "metadata": {
        "tags": [],
        "id": "LJwrIB0CWksn"
      },
      "cell_type": "code",
      "source": [
        "\n",
        "languages= [\"C\", \"C#\", \"C++\", \"Java\", \"JavaScript\", \"Python\", \"Scala\", \"Oracle\", \"SQL Server\", \"MySQL Server\", \"PostgreSQL\", \"MongoDB\"]\n",
        "wb2=Workbook()\n",
        "ws2=wb2.active\n",
        "ws2.append(['jobs_postings','languages'])\n",
        "for i in languages:\n",
        "    languages,jobs_postings=get_number_of_jobs_T(i)\n",
        "    ws2.append([jobs_postings,languages])\n",
        "\n",
        "wb2.save(\"job-postingsbythec.xlsx\")\n"
      ],
      "execution_count": null,
      "outputs": []
    }
  ],
  "metadata": {
    "kernelspec": {
      "name": "python3",
      "display_name": "Python 3.10",
      "language": "python"
    },
    "language_info": {
      "name": "python",
      "version": "3.10.13",
      "mimetype": "text/x-python",
      "codemirror_mode": {
        "name": "ipython",
        "version": 3
      },
      "pygments_lexer": "ipython3",
      "nbconvert_exporter": "python",
      "file_extension": ".py"
    },
    "colab": {
      "provenance": []
    }
  },
  "nbformat": 4,
  "nbformat_minor": 0
}