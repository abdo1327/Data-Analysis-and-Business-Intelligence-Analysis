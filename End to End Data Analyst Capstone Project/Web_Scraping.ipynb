{
  "cells": [
    {
      "metadata": {
        "id": "nHRDoAhRW0SJ"
      },
      "cell_type": "markdown",
      "source": [
        "# **Web Scraping**\n"
      ]
    },
    {
      "metadata": {
        "id": "uTxbQ4sZW0SK"
      },
      "cell_type": "markdown",
      "source": [
        "## **Overview**\n",
        "In this part of the project the foucs on :\n",
        "* Extract information from a given web site\n",
        "* Write the scraped data into a csv file to be uesd later\n"
      ]
    },
    {
      "metadata": {
        "id": "SwjBuKNEW0SK"
      },
      "cell_type": "markdown",
      "source": [
        "## Extract information from the given web site\n",
        "\n"
      ]
    },
    {
      "metadata": {
        "tags": [],
        "id": "anPitlujW0SK"
      },
      "cell_type": "code",
      "source": [
        "url = \"https://cf-courses-data.s3.us.cloud-object-storage.appdomain.cloud/IBM-DA0321EN-SkillsNetwork/labs/datasets/Programming_Languages.html\""
      ],
      "execution_count": null,
      "outputs": []
    },
    {
      "metadata": {
        "id": "bieSZ_dUW0SL"
      },
      "cell_type": "markdown",
      "source": [
        "the code will scrap  **name of the programming language** and **average annual salary**."
      ]
    },
    {
      "metadata": {
        "id": "ug2JINREW0SM"
      },
      "cell_type": "markdown",
      "source": [
        "Import the required libraries\n"
      ]
    },
    {
      "metadata": {
        "tags": [],
        "id": "GQ1lMf7FW0SM",
        "outputId": "812740e6-deb8-4288-f7b9-db497ce9028c"
      },
      "cell_type": "code",
      "source": [
        "!pip install bs4\n",
        "!pip install html5lib\n",
        "!pip install lxml"
      ],
      "execution_count": null,
      "outputs": [
        {
          "output_type": "stream",
          "text": "Collecting bs4\n  Downloading bs4-0.0.2-py2.py3-none-any.whl.metadata (411 bytes)\nRequirement already satisfied: beautifulsoup4 in /opt/conda/envs/Python-RT23.1/lib/python3.10/site-packages (from bs4) (4.12.0)\nRequirement already satisfied: soupsieve>1.2 in /opt/conda/envs/Python-RT23.1/lib/python3.10/site-packages (from beautifulsoup4->bs4) (2.4)\nDownloading bs4-0.0.2-py2.py3-none-any.whl (1.2 kB)\nInstalling collected packages: bs4\nSuccessfully installed bs4-0.0.2\nCollecting html5lib\n  Downloading html5lib-1.1-py2.py3-none-any.whl (112 kB)\n\u001b[2K     \u001b[90m━━━━━━━━━━━━━━━━━━━━━━━━━━━━━━━━━━━━━━\u001b[0m \u001b[32m112.2/112.2 kB\u001b[0m \u001b[31m17.9 MB/s\u001b[0m eta \u001b[36m0:00:00\u001b[0m\n\u001b[?25hRequirement already satisfied: six>=1.9 in /opt/conda/envs/Python-RT23.1/lib/python3.10/site-packages (from html5lib) (1.16.0)\nCollecting webencodings (from html5lib)\n  Downloading webencodings-0.5.1-py2.py3-none-any.whl (11 kB)\nInstalling collected packages: webencodings, html5lib\nSuccessfully installed html5lib-1.1 webencodings-0.5.1\nRequirement already satisfied: lxml in /opt/conda/envs/Python-RT23.1/lib/python3.10/site-packages (4.9.2)\n",
          "name": "stdout"
        }
      ]
    },
    {
      "metadata": {
        "tags": [],
        "id": "knGKLOoBW0SN"
      },
      "cell_type": "code",
      "source": [
        "from bs4 import BeautifulSoup\n",
        "import requests\n"
      ],
      "execution_count": null,
      "outputs": []
    },
    {
      "metadata": {
        "tags": [],
        "id": "JH6RTkDhW0SO"
      },
      "cell_type": "code",
      "source": [
        "data  = requests.get(url).text"
      ],
      "execution_count": null,
      "outputs": []
    },
    {
      "metadata": {
        "id": "A6l0eQqbW0SO"
      },
      "cell_type": "markdown",
      "source": [
        "Create a soup object\n"
      ]
    },
    {
      "metadata": {
        "tags": [],
        "id": "V-Bwt6yCW0SP"
      },
      "cell_type": "code",
      "source": [
        "soup = BeautifulSoup(data,\"lxml\")"
      ],
      "execution_count": null,
      "outputs": []
    },
    {
      "metadata": {
        "id": "qLnpT6wRW0SP"
      },
      "cell_type": "markdown",
      "source": [
        "Scrape the `Language name` and `annual average salary`.\n"
      ]
    },
    {
      "metadata": {
        "tags": [],
        "id": "fncSjdOPW0SP"
      },
      "cell_type": "code",
      "source": [
        "table = soup.find('table')\n",
        "data = []\n",
        "\n",
        "for row in table.find_all('tr'):\n",
        "    cols = row.find_all('td')\n",
        "\n",
        "    # Ensure there are at least two columns in the row\n",
        "    if len(cols) >= 4:\n",
        "        # Extract data from the second and fourth columns (adjust index as needed)\n",
        "        language = cols[1].getText().strip()\n",
        "        average_annual_salary = cols[3].getText().strip()\n",
        "\n",
        "        # Append data to the list\n",
        "        data.append({'Language': language, 'Average Annual Salary': average_annual_salary})\n",
        "\n"
      ],
      "execution_count": null,
      "outputs": []
    },
    {
      "metadata": {
        "id": "jL1lcyZ8W0SP"
      },
      "cell_type": "markdown",
      "source": [
        "\n",
        "# Save the DataFrame to a CSV file\n"
      ]
    },
    {
      "metadata": {
        "tags": [],
        "id": "n33-4IF-W0SQ",
        "outputId": "d6f7930d-15b5-42ca-813f-52bc8887959b"
      },
      "cell_type": "code",
      "source": [
        "import pandas as pd\n",
        "\n",
        "df = pd.DataFrame(data)\n",
        "\n",
        "# Save the DataFrame to a CSV file\n",
        "csv_file_path = \"popular-languages.csv\"\n",
        "df.to_csv(csv_file_path, index=False, encoding='utf-8')\n",
        "\n",
        "print(f\"Data saved to {csv_file_path}\")"
      ],
      "execution_count": null,
      "outputs": [
        {
          "output_type": "stream",
          "text": "Data saved to popular-languages.csv\n",
          "name": "stdout"
        }
      ]
    }
  ],
  "metadata": {
    "kernelspec": {
      "name": "python3",
      "display_name": "Python 3.10",
      "language": "python"
    },
    "language_info": {
      "name": "python",
      "version": "3.10.13",
      "mimetype": "text/x-python",
      "codemirror_mode": {
        "name": "ipython",
        "version": 3
      },
      "pygments_lexer": "ipython3",
      "nbconvert_exporter": "python",
      "file_extension": ".py"
    },
    "colab": {
      "provenance": []
    }
  },
  "nbformat": 4,
  "nbformat_minor": 0
}